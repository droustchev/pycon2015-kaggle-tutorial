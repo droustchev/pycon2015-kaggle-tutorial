{
 "cells": [
  {
   "cell_type": "code",
   "execution_count": 57,
   "metadata": {
    "collapsed": true
   },
   "outputs": [],
   "source": [
    "import pandas as pd"
   ]
  },
  {
   "cell_type": "code",
   "execution_count": 58,
   "metadata": {
    "collapsed": false
   },
   "outputs": [
    {
     "name": "stdout",
     "output_type": "stream",
     "text": [
      "/home/roustchevd/workspace/pyconUS2015/winning_ml_competitions_w_scikit-learn/pycon2015-kaggle-tutorial/1\r\n"
     ]
    }
   ],
   "source": [
    "!pwd"
   ]
  },
  {
   "cell_type": "code",
   "execution_count": 90,
   "metadata": {
    "collapsed": false
   },
   "outputs": [],
   "source": [
    "train = pd.read_csv(\"../input/train.csv\", parse_dates=['PostCreationDate','OwnerCreationDate'])"
   ]
  },
  {
   "cell_type": "code",
   "execution_count": 91,
   "metadata": {
    "collapsed": false
   },
   "outputs": [
    {
     "data": {
      "text/html": [
       "<div style=\"max-height:1000px;max-width:1500px;overflow:auto;\">\n",
       "<table border=\"1\" class=\"dataframe\">\n",
       "  <thead>\n",
       "    <tr style=\"text-align: right;\">\n",
       "      <th></th>\n",
       "      <th>Unnamed: 0</th>\n",
       "      <th>PostId</th>\n",
       "      <th>PostCreationDate</th>\n",
       "      <th>OwnerUserId</th>\n",
       "      <th>OwnerCreationDate</th>\n",
       "      <th>ReputationAtPostCreation</th>\n",
       "      <th>OwnerUndeletedAnswerCountAtPostTime</th>\n",
       "      <th>Title</th>\n",
       "      <th>BodyMarkdown</th>\n",
       "      <th>Tag1</th>\n",
       "      <th>Tag2</th>\n",
       "      <th>Tag3</th>\n",
       "      <th>Tag4</th>\n",
       "      <th>Tag5</th>\n",
       "      <th>PostClosedDate</th>\n",
       "      <th>OpenStatus</th>\n",
       "    </tr>\n",
       "  </thead>\n",
       "  <tbody>\n",
       "    <tr>\n",
       "      <th>0</th>\n",
       "      <td>0</td>\n",
       "      <td>6046168</td>\n",
       "      <td>2011-05-18 14:14:05</td>\n",
       "      <td>543315</td>\n",
       "      <td>2010-09-17 10:15:06</td>\n",
       "      <td>1</td>\n",
       "      <td>2</td>\n",
       "      <td>For Mongodb is it better to reference an objec...</td>\n",
       "      <td>I am building a corpus of indexed sentences in...</td>\n",
       "      <td>mongodb</td>\n",
       "      <td>NaN</td>\n",
       "      <td>NaN</td>\n",
       "      <td>NaN</td>\n",
       "      <td>NaN</td>\n",
       "      <td>NaN</td>\n",
       "      <td>1</td>\n",
       "    </tr>\n",
       "    <tr>\n",
       "      <th>1</th>\n",
       "      <td>1</td>\n",
       "      <td>4873911</td>\n",
       "      <td>2011-02-02 11:30:10</td>\n",
       "      <td>465076</td>\n",
       "      <td>2010-10-03 09:30:58</td>\n",
       "      <td>192</td>\n",
       "      <td>24</td>\n",
       "      <td>How to insert schemalocation in a xml document...</td>\n",
       "      <td>i create a xml document with JAXP and search a...</td>\n",
       "      <td>dom</td>\n",
       "      <td>xsd</td>\n",
       "      <td>jaxp</td>\n",
       "      <td>NaN</td>\n",
       "      <td>NaN</td>\n",
       "      <td>NaN</td>\n",
       "      <td>1</td>\n",
       "    </tr>\n",
       "    <tr>\n",
       "      <th>2</th>\n",
       "      <td>2</td>\n",
       "      <td>3311559</td>\n",
       "      <td>2010-07-22 17:21:54</td>\n",
       "      <td>406143</td>\n",
       "      <td>2010-07-22 16:58:20</td>\n",
       "      <td>1</td>\n",
       "      <td>0</td>\n",
       "      <td>Too many lookup tables</td>\n",
       "      <td>What are the adverse effects of having too man...</td>\n",
       "      <td>sql-server</td>\n",
       "      <td>database-design</td>\n",
       "      <td>enums</td>\n",
       "      <td>NaN</td>\n",
       "      <td>NaN</td>\n",
       "      <td>NaN</td>\n",
       "      <td>1</td>\n",
       "    </tr>\n",
       "    <tr>\n",
       "      <th>3</th>\n",
       "      <td>3</td>\n",
       "      <td>9990413</td>\n",
       "      <td>2012-04-03 09:18:39</td>\n",
       "      <td>851755</td>\n",
       "      <td>2011-07-19 10:22:40</td>\n",
       "      <td>4</td>\n",
       "      <td>1</td>\n",
       "      <td>What is this PHP code in VB.net</td>\n",
       "      <td>I am looking for the vb.net equivalent of this...</td>\n",
       "      <td>php</td>\n",
       "      <td>vb.net</td>\n",
       "      <td>NaN</td>\n",
       "      <td>NaN</td>\n",
       "      <td>NaN</td>\n",
       "      <td>04/15/2012 21:12:48</td>\n",
       "      <td>0</td>\n",
       "    </tr>\n",
       "    <tr>\n",
       "      <th>4</th>\n",
       "      <td>4</td>\n",
       "      <td>10421966</td>\n",
       "      <td>2012-05-02 21:25:01</td>\n",
       "      <td>603588</td>\n",
       "      <td>2011-02-04 18:05:34</td>\n",
       "      <td>334</td>\n",
       "      <td>14</td>\n",
       "      <td>Spring-Data mongodb querying multiple classes ...</td>\n",
       "      <td>With Spring-Data, you can use the @Document an...</td>\n",
       "      <td>mongodb</td>\n",
       "      <td>spring-data</td>\n",
       "      <td>NaN</td>\n",
       "      <td>NaN</td>\n",
       "      <td>NaN</td>\n",
       "      <td>NaN</td>\n",
       "      <td>1</td>\n",
       "    </tr>\n",
       "  </tbody>\n",
       "</table>\n",
       "</div>"
      ],
      "text/plain": [
       "   Unnamed: 0    PostId    PostCreationDate  OwnerUserId   OwnerCreationDate  \\\n",
       "0           0   6046168 2011-05-18 14:14:05       543315 2010-09-17 10:15:06   \n",
       "1           1   4873911 2011-02-02 11:30:10       465076 2010-10-03 09:30:58   \n",
       "2           2   3311559 2010-07-22 17:21:54       406143 2010-07-22 16:58:20   \n",
       "3           3   9990413 2012-04-03 09:18:39       851755 2011-07-19 10:22:40   \n",
       "4           4  10421966 2012-05-02 21:25:01       603588 2011-02-04 18:05:34   \n",
       "\n",
       "   ReputationAtPostCreation  OwnerUndeletedAnswerCountAtPostTime  \\\n",
       "0                         1                                    2   \n",
       "1                       192                                   24   \n",
       "2                         1                                    0   \n",
       "3                         4                                    1   \n",
       "4                       334                                   14   \n",
       "\n",
       "                                               Title  \\\n",
       "0  For Mongodb is it better to reference an objec...   \n",
       "1  How to insert schemalocation in a xml document...   \n",
       "2                            Too many lookup tables    \n",
       "3                    What is this PHP code in VB.net   \n",
       "4  Spring-Data mongodb querying multiple classes ...   \n",
       "\n",
       "                                        BodyMarkdown        Tag1  \\\n",
       "0  I am building a corpus of indexed sentences in...     mongodb   \n",
       "1  i create a xml document with JAXP and search a...         dom   \n",
       "2  What are the adverse effects of having too man...  sql-server   \n",
       "3  I am looking for the vb.net equivalent of this...         php   \n",
       "4  With Spring-Data, you can use the @Document an...     mongodb   \n",
       "\n",
       "              Tag2   Tag3 Tag4 Tag5       PostClosedDate  OpenStatus  \n",
       "0              NaN    NaN  NaN  NaN                  NaN           1  \n",
       "1              xsd   jaxp  NaN  NaN                  NaN           1  \n",
       "2  database-design  enums  NaN  NaN                  NaN           1  \n",
       "3           vb.net    NaN  NaN  NaN  04/15/2012 21:12:48           0  \n",
       "4      spring-data    NaN  NaN  NaN                  NaN           1  "
      ]
     },
     "execution_count": 91,
     "metadata": {},
     "output_type": "execute_result"
    }
   ],
   "source": [
    "train.head()"
   ]
  },
  {
   "cell_type": "code",
   "execution_count": 94,
   "metadata": {
    "collapsed": false
   },
   "outputs": [
    {
     "data": {
      "text/html": [
       "<div style=\"max-height:1000px;max-width:1500px;overflow:auto;\">\n",
       "<table border=\"1\" class=\"dataframe\">\n",
       "  <thead>\n",
       "    <tr style=\"text-align: right;\">\n",
       "      <th></th>\n",
       "      <th>0</th>\n",
       "      <th>1</th>\n",
       "      <th>2</th>\n",
       "      <th>3</th>\n",
       "      <th>4</th>\n",
       "    </tr>\n",
       "  </thead>\n",
       "  <tbody>\n",
       "    <tr>\n",
       "      <th>Unnamed: 0</th>\n",
       "      <td>0</td>\n",
       "      <td>1</td>\n",
       "      <td>2</td>\n",
       "      <td>3</td>\n",
       "      <td>4</td>\n",
       "    </tr>\n",
       "    <tr>\n",
       "      <th>PostId</th>\n",
       "      <td>6046168</td>\n",
       "      <td>4873911</td>\n",
       "      <td>3311559</td>\n",
       "      <td>9990413</td>\n",
       "      <td>10421966</td>\n",
       "    </tr>\n",
       "    <tr>\n",
       "      <th>PostCreationDate</th>\n",
       "      <td>2011-05-18 14:14:05</td>\n",
       "      <td>2011-02-02 11:30:10</td>\n",
       "      <td>2010-07-22 17:21:54</td>\n",
       "      <td>2012-04-03 09:18:39</td>\n",
       "      <td>2012-05-02 21:25:01</td>\n",
       "    </tr>\n",
       "    <tr>\n",
       "      <th>OwnerUserId</th>\n",
       "      <td>543315</td>\n",
       "      <td>465076</td>\n",
       "      <td>406143</td>\n",
       "      <td>851755</td>\n",
       "      <td>603588</td>\n",
       "    </tr>\n",
       "    <tr>\n",
       "      <th>OwnerCreationDate</th>\n",
       "      <td>2010-09-17 10:15:06</td>\n",
       "      <td>2010-10-03 09:30:58</td>\n",
       "      <td>2010-07-22 16:58:20</td>\n",
       "      <td>2011-07-19 10:22:40</td>\n",
       "      <td>2011-02-04 18:05:34</td>\n",
       "    </tr>\n",
       "    <tr>\n",
       "      <th>ReputationAtPostCreation</th>\n",
       "      <td>1</td>\n",
       "      <td>192</td>\n",
       "      <td>1</td>\n",
       "      <td>4</td>\n",
       "      <td>334</td>\n",
       "    </tr>\n",
       "    <tr>\n",
       "      <th>OwnerUndeletedAnswerCountAtPostTime</th>\n",
       "      <td>2</td>\n",
       "      <td>24</td>\n",
       "      <td>0</td>\n",
       "      <td>1</td>\n",
       "      <td>14</td>\n",
       "    </tr>\n",
       "    <tr>\n",
       "      <th>Title</th>\n",
       "      <td>For Mongodb is it better to reference an objec...</td>\n",
       "      <td>How to insert schemalocation in a xml document...</td>\n",
       "      <td>Too many lookup tables</td>\n",
       "      <td>What is this PHP code in VB.net</td>\n",
       "      <td>Spring-Data mongodb querying multiple classes ...</td>\n",
       "    </tr>\n",
       "    <tr>\n",
       "      <th>BodyMarkdown</th>\n",
       "      <td>I am building a corpus of indexed sentences in...</td>\n",
       "      <td>i create a xml document with JAXP and search a...</td>\n",
       "      <td>What are the adverse effects of having too man...</td>\n",
       "      <td>I am looking for the vb.net equivalent of this...</td>\n",
       "      <td>With Spring-Data, you can use the @Document an...</td>\n",
       "    </tr>\n",
       "    <tr>\n",
       "      <th>Tag1</th>\n",
       "      <td>mongodb</td>\n",
       "      <td>dom</td>\n",
       "      <td>sql-server</td>\n",
       "      <td>php</td>\n",
       "      <td>mongodb</td>\n",
       "    </tr>\n",
       "    <tr>\n",
       "      <th>Tag2</th>\n",
       "      <td>NaN</td>\n",
       "      <td>xsd</td>\n",
       "      <td>database-design</td>\n",
       "      <td>vb.net</td>\n",
       "      <td>spring-data</td>\n",
       "    </tr>\n",
       "    <tr>\n",
       "      <th>Tag3</th>\n",
       "      <td>NaN</td>\n",
       "      <td>jaxp</td>\n",
       "      <td>enums</td>\n",
       "      <td>NaN</td>\n",
       "      <td>NaN</td>\n",
       "    </tr>\n",
       "    <tr>\n",
       "      <th>Tag4</th>\n",
       "      <td>NaN</td>\n",
       "      <td>NaN</td>\n",
       "      <td>NaN</td>\n",
       "      <td>NaN</td>\n",
       "      <td>NaN</td>\n",
       "    </tr>\n",
       "    <tr>\n",
       "      <th>Tag5</th>\n",
       "      <td>NaN</td>\n",
       "      <td>NaN</td>\n",
       "      <td>NaN</td>\n",
       "      <td>NaN</td>\n",
       "      <td>NaN</td>\n",
       "    </tr>\n",
       "    <tr>\n",
       "      <th>PostClosedDate</th>\n",
       "      <td>NaN</td>\n",
       "      <td>NaN</td>\n",
       "      <td>NaN</td>\n",
       "      <td>04/15/2012 21:12:48</td>\n",
       "      <td>NaN</td>\n",
       "    </tr>\n",
       "    <tr>\n",
       "      <th>OpenStatus</th>\n",
       "      <td>1</td>\n",
       "      <td>1</td>\n",
       "      <td>1</td>\n",
       "      <td>0</td>\n",
       "      <td>1</td>\n",
       "    </tr>\n",
       "    <tr>\n",
       "      <th>TitleLength</th>\n",
       "      <td>76</td>\n",
       "      <td>54</td>\n",
       "      <td>23</td>\n",
       "      <td>31</td>\n",
       "      <td>75</td>\n",
       "    </tr>\n",
       "    <tr>\n",
       "      <th>TimeToPost</th>\n",
       "      <td>21009539000000000</td>\n",
       "      <td>10547952000000000</td>\n",
       "      <td>1414000000000</td>\n",
       "      <td>22373759000000000</td>\n",
       "      <td>39151167000000000</td>\n",
       "    </tr>\n",
       "  </tbody>\n",
       "</table>\n",
       "</div>"
      ],
      "text/plain": [
       "                                                                                     0  \\\n",
       "Unnamed: 0                                                                           0   \n",
       "PostId                                                                         6046168   \n",
       "PostCreationDate                                                   2011-05-18 14:14:05   \n",
       "OwnerUserId                                                                     543315   \n",
       "OwnerCreationDate                                                  2010-09-17 10:15:06   \n",
       "ReputationAtPostCreation                                                             1   \n",
       "OwnerUndeletedAnswerCountAtPostTime                                                  2   \n",
       "Title                                For Mongodb is it better to reference an objec...   \n",
       "BodyMarkdown                         I am building a corpus of indexed sentences in...   \n",
       "Tag1                                                                           mongodb   \n",
       "Tag2                                                                               NaN   \n",
       "Tag3                                                                               NaN   \n",
       "Tag4                                                                               NaN   \n",
       "Tag5                                                                               NaN   \n",
       "PostClosedDate                                                                     NaN   \n",
       "OpenStatus                                                                           1   \n",
       "TitleLength                                                                         76   \n",
       "TimeToPost                                                           21009539000000000   \n",
       "\n",
       "                                                                                     1  \\\n",
       "Unnamed: 0                                                                           1   \n",
       "PostId                                                                         4873911   \n",
       "PostCreationDate                                                   2011-02-02 11:30:10   \n",
       "OwnerUserId                                                                     465076   \n",
       "OwnerCreationDate                                                  2010-10-03 09:30:58   \n",
       "ReputationAtPostCreation                                                           192   \n",
       "OwnerUndeletedAnswerCountAtPostTime                                                 24   \n",
       "Title                                How to insert schemalocation in a xml document...   \n",
       "BodyMarkdown                         i create a xml document with JAXP and search a...   \n",
       "Tag1                                                                               dom   \n",
       "Tag2                                                                               xsd   \n",
       "Tag3                                                                              jaxp   \n",
       "Tag4                                                                               NaN   \n",
       "Tag5                                                                               NaN   \n",
       "PostClosedDate                                                                     NaN   \n",
       "OpenStatus                                                                           1   \n",
       "TitleLength                                                                         54   \n",
       "TimeToPost                                                           10547952000000000   \n",
       "\n",
       "                                                                                     2  \\\n",
       "Unnamed: 0                                                                           2   \n",
       "PostId                                                                         3311559   \n",
       "PostCreationDate                                                   2010-07-22 17:21:54   \n",
       "OwnerUserId                                                                     406143   \n",
       "OwnerCreationDate                                                  2010-07-22 16:58:20   \n",
       "ReputationAtPostCreation                                                             1   \n",
       "OwnerUndeletedAnswerCountAtPostTime                                                  0   \n",
       "Title                                                          Too many lookup tables    \n",
       "BodyMarkdown                         What are the adverse effects of having too man...   \n",
       "Tag1                                                                        sql-server   \n",
       "Tag2                                                                   database-design   \n",
       "Tag3                                                                             enums   \n",
       "Tag4                                                                               NaN   \n",
       "Tag5                                                                               NaN   \n",
       "PostClosedDate                                                                     NaN   \n",
       "OpenStatus                                                                           1   \n",
       "TitleLength                                                                         23   \n",
       "TimeToPost                                                               1414000000000   \n",
       "\n",
       "                                                                                     3  \\\n",
       "Unnamed: 0                                                                           3   \n",
       "PostId                                                                         9990413   \n",
       "PostCreationDate                                                   2012-04-03 09:18:39   \n",
       "OwnerUserId                                                                     851755   \n",
       "OwnerCreationDate                                                  2011-07-19 10:22:40   \n",
       "ReputationAtPostCreation                                                             4   \n",
       "OwnerUndeletedAnswerCountAtPostTime                                                  1   \n",
       "Title                                                  What is this PHP code in VB.net   \n",
       "BodyMarkdown                         I am looking for the vb.net equivalent of this...   \n",
       "Tag1                                                                               php   \n",
       "Tag2                                                                            vb.net   \n",
       "Tag3                                                                               NaN   \n",
       "Tag4                                                                               NaN   \n",
       "Tag5                                                                               NaN   \n",
       "PostClosedDate                                                     04/15/2012 21:12:48   \n",
       "OpenStatus                                                                           0   \n",
       "TitleLength                                                                         31   \n",
       "TimeToPost                                                           22373759000000000   \n",
       "\n",
       "                                                                                     4  \n",
       "Unnamed: 0                                                                           4  \n",
       "PostId                                                                        10421966  \n",
       "PostCreationDate                                                   2012-05-02 21:25:01  \n",
       "OwnerUserId                                                                     603588  \n",
       "OwnerCreationDate                                                  2011-02-04 18:05:34  \n",
       "ReputationAtPostCreation                                                           334  \n",
       "OwnerUndeletedAnswerCountAtPostTime                                                 14  \n",
       "Title                                Spring-Data mongodb querying multiple classes ...  \n",
       "BodyMarkdown                         With Spring-Data, you can use the @Document an...  \n",
       "Tag1                                                                           mongodb  \n",
       "Tag2                                                                       spring-data  \n",
       "Tag3                                                                               NaN  \n",
       "Tag4                                                                               NaN  \n",
       "Tag5                                                                               NaN  \n",
       "PostClosedDate                                                                     NaN  \n",
       "OpenStatus                                                                           1  \n",
       "TitleLength                                                                         75  \n",
       "TimeToPost                                                           39151167000000000  "
      ]
     },
     "execution_count": 94,
     "metadata": {},
     "output_type": "execute_result"
    }
   ],
   "source": [
    "train.head().transpose()"
   ]
  },
  {
   "cell_type": "code",
   "execution_count": 93,
   "metadata": {
    "collapsed": false
   },
   "outputs": [],
   "source": [
    "train[\"TitleLength\"] = train.Title.apply(len)\n",
    "train['TimeToPost'] = train.PostCreationDate.astype('i8') - train.OwnerCreationDate.astype('i8')"
   ]
  },
  {
   "cell_type": "code",
   "execution_count": 97,
   "metadata": {
    "collapsed": false
   },
   "outputs": [
    {
     "data": {
      "text/plain": [
       "(array([  3.57020000e+04,   6.57980000e+04,   2.93590000e+04,\n",
       "          7.44800000e+03,   1.57500000e+03,   3.80000000e+02,\n",
       "          5.00000000e+00,   1.00000000e+00,   1.00000000e+00,\n",
       "          3.00000000e+00]),\n",
       " array([  10.,   34.,   58.,   82.,  106.,  130.,  154.,  178.,  202.,\n",
       "         226.,  250.]),\n",
       " <a list of 10 Patch objects>)"
      ]
     },
     "execution_count": 97,
     "metadata": {},
     "output_type": "execute_result"
    },
    {
     "data": {
      "image/png": "[encoded data removed]",
      "text/plain": [
       "<matplotlib.figure.Figure at 0x7f8caa678ba8>"
      ]
     },
     "metadata": {},
     "output_type": "display_data"
    }
   ],
   "source": [
    "import matplotlib.pyplot as plt\n",
    "import seaborn as sns\n",
    "import numpy as np\n",
    "%matplotlib inline\n",
    "\n",
    "plt.hist(train.TitleLength.values)"
   ]
  },
  {
   "cell_type": "code",
   "execution_count": 98,
   "metadata": {
    "collapsed": false
   },
   "outputs": [
    {
     "data": {
      "text/plain": [
       "<matplotlib.legend.Legend at 0x7f8caa304ba8>"
      ]
     },
     "execution_count": 98,
     "metadata": {},
     "output_type": "execute_result"
    },
    {
     "data": {
      "image/png": "[encoded data removed]",
      "text/plain": [
       "<matplotlib.figure.Figure at 0x7f8caa304470>"
      ]
     },
     "metadata": {},
     "output_type": "display_data"
    }
   ],
   "source": [
    "#plt.hist([train[train.OpenStatus==0].TitleLength.values, \n",
    "#          train[train.OpenStatus==1].TitleLength.values],\n",
    "#         label = [\"closed\", \"open\"],\n",
    "#         alpha=.5);\n",
    "#plt.legend()\n",
    "\n",
    "plt.hist([train[train.OpenStatus==0].TimeToPost.values,\n",
    "          train[train.OpenStatus==1].TimeToPost.values],\n",
    "         label = ['closed', 'open'],\n",
    "        alpha=.5);\n",
    "plt.legend()"
   ]
  },
  {
   "cell_type": "code",
   "execution_count": 76,
   "metadata": {
    "collapsed": false
   },
   "outputs": [
    {
     "data": {
      "text/plain": [
       "<matplotlib.legend.Legend at 0x7f8caafe5e80>"
      ]
     },
     "execution_count": 76,
     "metadata": {},
     "output_type": "execute_result"
    },
    {
     "data": {
      "image/png": "[encoded data removed]",
      "text/plain": [
       "<matplotlib.figure.Figure at 0x7f8caed1ea20>"
      ]
     },
     "metadata": {},
     "output_type": "display_data"
    }
   ],
   "source": [
    "plt.hist([train[train.OpenStatus==0].OwnerCreationYear.values,\n",
    "          train[train.OpenStatus==1].OwnerCreationYear.values],\n",
    "         label = ['closed', 'open'],\n",
    "        alpha=.5);\n",
    "plt.legend()"
   ]
  },
  {
   "cell_type": "code",
   "execution_count": 79,
   "metadata": {
    "collapsed": false
   },
   "outputs": [
    {
     "data": {
      "text/plain": [
       "<matplotlib.legend.Legend at 0x7f8cae4237b8>"
      ]
     },
     "execution_count": 79,
     "metadata": {},
     "output_type": "execute_result"
    },
    {
     "data": {
      "image/png": "[encoded data removed]",
      "text/plain": [
       "<matplotlib.figure.Figure at 0x7f8cae40bb00>"
      ]
     },
     "metadata": {},
     "output_type": "display_data"
    }
   ],
   "source": [
    "plt.hist([train[train.OpenStatus==0].TimeToPost.values,\n",
    "          train[train.OpenStatus==1].TimeToPost.values],\n",
    "         label = ['closed', 'open'],\n",
    "        alpha=.5);\n",
    "plt.legend()"
   ]
  },
  {
   "cell_type": "code",
   "execution_count": 12,
   "metadata": {
    "collapsed": false
   },
   "outputs": [
    {
     "data": {
      "text/plain": [
       "<matplotlib.collections.PathCollection at 0x7f8cb064b2e8>"
      ]
     },
     "execution_count": 12,
     "metadata": {},
     "output_type": "execute_result"
    },
    {
     "data": {
      "image/png": "[encoded data removed]",
      "text/plain": [
       "<matplotlib.figure.Figure at 0x7f8cb07d2160>"
      ]
     },
     "metadata": {},
     "output_type": "display_data"
    }
   ],
   "source": [
    "plt.scatter(train.TitleLength, train.OpenStatus)"
   ]
  },
  {
   "cell_type": "code",
   "execution_count": 13,
   "metadata": {
    "collapsed": false
   },
   "outputs": [
    {
     "data": {
      "text/plain": [
       "<matplotlib.text.Text at 0x7f8cb0607be0>"
      ]
     },
     "execution_count": 13,
     "metadata": {},
     "output_type": "execute_result"
    },
    {
     "data": {
      "image/png": "[encoded data removed]",
      "text/plain": [
       "<matplotlib.figure.Figure at 0x7f8cb065b5f8>"
      ]
     },
     "metadata": {},
     "output_type": "display_data"
    }
   ],
   "source": [
    "mean_status_by_length = train.groupby(\"TitleLength\").OpenStatus.mean()\n",
    "mean_status_by_length_df = pd.DataFrame(mean_status_by_length).reset_index()\n",
    "\n",
    "# add random errors with a normal distribution                      \n",
    "length_status_scatter = plt.scatter(mean_status_by_length_df.TitleLength, mean_status_by_length_df.OpenStatus, alpha=.5)\n",
    "length_status_scatter\n",
    "plt.xlabel(\"Title Length\")\n",
    "plt.ylabel(\"Average OpenStatus\")"
   ]
  },
  {
   "cell_type": "code",
   "execution_count": 14,
   "metadata": {
    "collapsed": false
   },
   "outputs": [
    {
     "data": {
      "text/plain": [
       "<matplotlib.legend.Legend at 0x7f8cb05d67f0>"
      ]
     },
     "execution_count": 14,
     "metadata": {},
     "output_type": "execute_result"
    },
    {
     "data": {
      "image/png": "[encoded data removed]",
      "text/plain": [
       "<matplotlib.figure.Figure at 0x7f8cb05d6518>"
      ]
     },
     "metadata": {},
     "output_type": "display_data"
    }
   ],
   "source": [
    "plt.hist([train[train.OpenStatus==0].ReputationAtPostCreation.values, \n",
    "          train[train.OpenStatus==1].ReputationAtPostCreation.values],\n",
    "         label = [0, 1],\n",
    "         alpha=.5);\n",
    "plt.legend()"
   ]
  },
  {
   "cell_type": "code",
   "execution_count": 15,
   "metadata": {
    "collapsed": false
   },
   "outputs": [
    {
     "data": {
      "text/plain": [
       "<matplotlib.legend.Legend at 0x7f8cb0547ef0>"
      ]
     },
     "execution_count": 15,
     "metadata": {},
     "output_type": "execute_result"
    },
    {
     "data": {
      "image/png": "[encoded data removed]",
      "text/plain": [
       "<matplotlib.figure.Figure at 0x7f8cb0540438>"
      ]
     },
     "metadata": {},
     "output_type": "display_data"
    }
   ],
   "source": [
    "train_low_rep = train[train.ReputationAtPostCreation < 50]\n",
    "plt.hist([train_low_rep[train_low_rep.OpenStatus==0].ReputationAtPostCreation.values, \n",
    "          train_low_rep[train_low_rep.OpenStatus==1].ReputationAtPostCreation.values],\n",
    "         label = [0, 1],\n",
    "         alpha=.5);\n",
    "plt.legend()\n"
   ]
  },
  {
   "cell_type": "code",
   "execution_count": 16,
   "metadata": {
    "collapsed": false
   },
   "outputs": [
    {
     "data": {
      "text/plain": [
       "<matplotlib.legend.Legend at 0x7f8cb046af98>"
      ]
     },
     "execution_count": 16,
     "metadata": {},
     "output_type": "execute_result"
    },
    {
     "data": {
      "image/png": "[encoded data removed]",
      "text/plain": [
       "<matplotlib.figure.Figure at 0x7f8cb04edeb8>"
      ]
     },
     "metadata": {},
     "output_type": "display_data"
    }
   ],
   "source": [
    "bins = np.logspace(0, np.log10(np.max(train.ReputationAtPostCreation.values)), num=20)\n",
    "plt.xscale(\"log\")\n",
    "plt.hist([train[train.OpenStatus==0].ReputationAtPostCreation.values, \n",
    "          train[train.OpenStatus==1].ReputationAtPostCreation.values],\n",
    "         bins = bins,\n",
    "         label = [0, 1],\n",
    "         alpha=.5);\n",
    "plt.legend()\n"
   ]
  },
  {
   "cell_type": "code",
   "execution_count": 112,
   "metadata": {
    "collapsed": false
   },
   "outputs": [],
   "source": [
    "%run 1.py"
   ]
  },
  {
   "cell_type": "code",
   "execution_count": 113,
   "metadata": {
    "collapsed": false
   },
   "outputs": [],
   "source": [
    "train = load_feature_matrix(\"../input/train.csv\")"
   ]
  },
  {
   "cell_type": "code",
   "execution_count": 114,
   "metadata": {
    "collapsed": false
   },
   "outputs": [],
   "source": [
    "test = load_feature_matrix(\"../input/test.csv\")"
   ]
  },
  {
   "cell_type": "code",
   "execution_count": 150,
   "metadata": {
    "collapsed": false
   },
   "outputs": [],
   "source": [
    "from sklearn.linear_model import LogisticRegression\n",
    "from sklearn.ensemble import RandomForestClassifier\n",
    "\n",
    "lr = LogisticRegression()\n",
    "br = RandomForestClassifier()"
   ]
  },
  {
   "cell_type": "code",
   "execution_count": 151,
   "metadata": {
    "collapsed": false
   },
   "outputs": [
    {
     "data": {
      "text/plain": [
       "RandomForestClassifier(bootstrap=True, class_weight=None, criterion='gini',\n",
       "            max_depth=None, max_features='auto', max_leaf_nodes=None,\n",
       "            min_samples_leaf=1, min_samples_split=2,\n",
       "            min_weight_fraction_leaf=0.0, n_estimators=10, n_jobs=1,\n",
       "            oob_score=False, random_state=None, verbose=0,\n",
       "            warm_start=False)"
      ]
     },
     "execution_count": 151,
     "metadata": {},
     "output_type": "execute_result"
    }
   ],
   "source": [
    "columns = [\"ReputationAtPostCreation\", \"TitleLength\", 'TimeToPost']\n",
    "lr.fit(X = np.asarray(train[columns]), \n",
    "       y = np.asarray(train.OpenStatus).transpose())\n",
    "\n",
    "br.fit(X = np.asarray(train[columns]),\n",
    "       y = np.asarray(train.OpenStatus).transpose())"
   ]
  },
  {
   "cell_type": "code",
   "execution_count": 152,
   "metadata": {
    "collapsed": false
   },
   "outputs": [
    {
     "data": {
      "text/plain": [
       "0.49997148397399338"
      ]
     },
     "execution_count": 152,
     "metadata": {},
     "output_type": "execute_result"
    }
   ],
   "source": [
    "lr.predict(np.asarray(train[columns]))\n",
    "np.mean(lr.predict(np.asarray(train[columns])) == train.OpenStatus)"
   ]
  },
  {
   "cell_type": "code",
   "execution_count": 153,
   "metadata": {
    "collapsed": false
   },
   "outputs": [
    {
     "data": {
      "text/plain": [
       "0.94802954260294281"
      ]
     },
     "execution_count": 153,
     "metadata": {},
     "output_type": "execute_result"
    }
   ],
   "source": [
    "br.predict(np.asarray(train[columns]))\n",
    "np.mean(br.predict(np.asarray(train[columns])) == train.OpenStatus)"
   ]
  },
  {
   "cell_type": "code",
   "execution_count": 118,
   "metadata": {
    "collapsed": false
   },
   "outputs": [
    {
     "data": {
      "text/plain": [
       "array([ 0.56551797,  0.50000472,  0.51888413, ...,  0.50106996,\n",
       "        0.50922079,  0.50569236])"
      ]
     },
     "execution_count": 118,
     "metadata": {},
     "output_type": "execute_result"
    }
   ],
   "source": [
    "lr.predict_proba(np.asarray(test[columns]))[:,1]"
   ]
  },
  {
   "cell_type": "code",
   "execution_count": 154,
   "metadata": {
    "collapsed": false
   },
   "outputs": [
    {
     "data": {
      "text/plain": [
       "array([ 0.3,  1. ,  0.7, ...,  0.1,  0.6,  0.6])"
      ]
     },
     "execution_count": 154,
     "metadata": {},
     "output_type": "execute_result"
    }
   ],
   "source": [
    "br.predict_proba(np.asarray(test[columns]))[:,1]"
   ]
  },
  {
   "cell_type": "code",
   "execution_count": 157,
   "metadata": {
    "collapsed": false
   },
   "outputs": [
    {
     "data": {
      "text/plain": [
       "array([ 0.43275898,  0.75000236,  0.60944206, ...,  0.30053498,\n",
       "        0.55461039,  0.55284618])"
      ]
     },
     "execution_count": 157,
     "metadata": {},
     "output_type": "execute_result"
    }
   ],
   "source": [
    "predictions = lr.predict_proba(np.asarray(test[columns]))[:,1]\n",
    "br_predictions = br.predict_proba(np.asarray(test[columns]))[:,1]\n",
    "predictions = (predictions + br_predictions)/2\n",
    "predictions"
   ]
  },
  {
   "cell_type": "code",
   "execution_count": 158,
   "metadata": {
    "collapsed": false
   },
   "outputs": [
    {
     "name": "stdout",
     "output_type": "stream",
     "text": [
      "\"id\",\"open\"\r\n",
      "11768878,0.5\r\n",
      "11768880,0.5\r\n",
      "11803678,0.5\r\n",
      "11803496,0.5\r\n",
      "11803700,0.5\r\n",
      "11927241,0.5\r\n",
      "11927226,0.5\r\n",
      "11927247,0.5\r\n",
      "11927248,0.5\r\n"
     ]
    }
   ],
   "source": [
    "!head ../input/even_odds_sample_submission.csv"
   ]
  },
  {
   "cell_type": "code",
   "execution_count": 159,
   "metadata": {
    "collapsed": true
   },
   "outputs": [],
   "source": [
    "submission = pd.DataFrame({\"id\": test.PostId, \"OpenStatus\": predictions})"
   ]
  },
  {
   "cell_type": "code",
   "execution_count": 160,
   "metadata": {
    "collapsed": false
   },
   "outputs": [
    {
     "name": "stdout",
     "output_type": "stream",
     "text": [
      "mkdir: cannot create directory ‘../submissions’: File exists\r\n"
     ]
    }
   ],
   "source": [
    "!mkdir ../submissions\n",
    "submission.to_csv(\"../submissions/submission_8.csv\")"
   ]
  },
  {
   "cell_type": "code",
   "execution_count": 161,
   "metadata": {
    "collapsed": false
   },
   "outputs": [
    {
     "name": "stdout",
     "output_type": "stream",
     "text": [
      ",OpenStatus,id\r\n",
      "0,0.43275898398649426,11768878\r\n",
      "1,0.7500023618201216,11768880\r\n",
      "2,0.6094420641178188,11803678\r\n",
      "3,0.5632095735132148,11803496\r\n",
      "4,0.6218538233057578,11803700\r\n",
      "5,0.43399613039058305,11927241\r\n",
      "6,0.5214469848128398,11927226\r\n",
      "7,0.25645671048051477,11927247\r\n",
      "8,0.5479407172185686,11927248\r\n"
     ]
    }
   ],
   "source": [
    "!head ../submissions/submission_8.csv"
   ]
  },
  {
   "cell_type": "code",
   "execution_count": 162,
   "metadata": {
    "collapsed": false
   },
   "outputs": [],
   "source": [
    "submission.to_csv(\"../submissions/submission_8.csv\", index = False)"
   ]
  },
  {
   "cell_type": "code",
   "execution_count": 163,
   "metadata": {
    "collapsed": false
   },
   "outputs": [
    {
     "name": "stdout",
     "output_type": "stream",
     "text": [
      "OpenStatus,id\r\n",
      "0.43275898398649426,11768878\r\n",
      "0.7500023618201216,11768880\r\n",
      "0.6094420641178188,11803678\r\n",
      "0.5632095735132148,11803496\r\n",
      "0.6218538233057578,11803700\r\n",
      "0.43399613039058305,11927241\r\n",
      "0.5214469848128398,11927226\r\n",
      "0.25645671048051477,11927247\r\n",
      "0.5479407172185686,11927248\r\n"
     ]
    }
   ],
   "source": [
    "!head ../submissions/submission_8.csv"
   ]
  },
  {
   "cell_type": "markdown",
   "metadata": {},
   "source": [
    "# Let's submit \n",
    "\n",
    "https://inclass.kaggle.com/c/pycon-2015-tutorial"
   ]
  },
  {
   "cell_type": "markdown",
   "metadata": {},
   "source": [
    "\"Log loss\" is based on:\n",
    "\n",
    "$$\\prod_{i=1}^N \\text{probability that prediction i is correct}$$"
   ]
  },
  {
   "cell_type": "markdown",
   "metadata": {},
   "source": [
    "# Homework\n",
    "\n",
    "- explore more features!\n",
    "- make your own submission!\n",
    "\n",
    "\n"
   ]
  },
  {
   "cell_type": "code",
   "execution_count": null,
   "metadata": {
    "collapsed": true
   },
   "outputs": [],
   "source": []
  }
 ],
 "metadata": {
  "kernelspec": {
   "display_name": "Python 3",
   "language": "python",
   "name": "python3"
  },
  "language_info": {
   "codemirror_mode": {
    "name": "ipython",
    "version": 3
   },
   "file_extension": ".py",
   "mimetype": "text/x-python",
   "name": "python",
   "nbconvert_exporter": "python",
   "pygments_lexer": "ipython3",
   "version": "3.4.3"
  }
 },
 "nbformat": 4,
 "nbformat_minor": 0
}
